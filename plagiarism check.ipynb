{
 "cells": [
  {
   "cell_type": "code",
   "execution_count": 75,
   "metadata": {},
   "outputs": [],
   "source": [
    "%matplotlib inline\n",
    "from nltk.tokenize import sent_tokenize\n",
    "from google import search\n",
    "from collections import Counter\n",
    "import editdistance\n",
    "import pandas as pd\n",
    "import matplotlib.pyplot as plt\n",
    "import seaborn as sns\n",
    "\n",
    "sns.set_context('notebook')\n",
    "sns.set_style('whitegrid')"
   ]
  },
  {
   "cell_type": "markdown",
   "metadata": {},
   "source": [
    "# Plagiarism Check\n",
    "\n",
    "When reading [this paper](https://www.ncbi.nlm.nih.gov/pmc/articles/PMC2672989/#!po=1.82927) I got sent I googled the paragraph \n",
    "\n",
    "\n",
    "`Vacuum extraction was first described in 1705 by Dr. James Yonge, an English surgeon, several decades before the invention of the obstetric forceps. However, it did not gain widespread use until the 1950s, when it was popularized in a series of studies by the Swedish obstetrician Dr. Tage Malmström.5 By the 1970s, the vacuum extractor had almost completely replaced forceps for assisted vaginal deliveries in most northern European countries, but its popularity in many English-speaking countries, including the United States and the United Kingdom, was limited. By 1992, however, the number of vacuum assisted deliveries surpassed the number of forceps deliveries in the United States, and by the year 2000 approximately 66% of operative vaginal deliveries were by vacuum`\n",
    "\n",
    "and found that in [this textbook chapter 15 10th edition e-book version  ](https://books.google.ca/books?id=zRNBDwAAQBAJ&pg=PA161&dq=.+Vacuum+extraction+was+first+described+in+1705+by+Dr.+James+Yonge,+an+English+surgeon,+several+decades+before+the+invention+of+the+obstetric+forceps.+However,+it+did+not+gain+widespread+use+until+the+1950s,+when+it+was+popularized+in+a+series+of+studies+by+the+Swedish+obstetrician+Dr.+Tage+Malmstr%C3%B6m.5+By+the+1970s,+the+vacuum+extractor+had+almost+completely+replaced+forceps+for+assisted+vaginal+deliveries+in+most+northern+European+countries,+but+its+popularity+in+many+English-speaking+countries,+including+the+United+States+and+the+United+Kingdom,+was+limited.+By+1992,+however,+the+number+of+vacuum+assisted+deliveries+surpassed+the+number+of+forceps+deliveries+in+the+United+States,+and+by+the+year+2000+approximately+66%25+of+operative+vaginal+deliveries+were+by+vacuu&hl=en&sa=X&ved=0ahUKEwjJ-e7RgqHYAhUCGt8KHRe2AL0Q6AEIKzAA#v=onepage&q=.%20Vacuum%20extraction%20was%20first%20described%20in%201705%20by%20Dr.%20James%20Yonge%2C%20an%20English%20surgeon%2C%20several%20decades%20before%20the%20invention%20of%20the%20obstetric%20forceps.%20However%2C%20it%20did%20not%20gain%20widespread%20use%20until%20the%201950s%2C%20when%20it%20was%20popularized%20in%20a%20series%20of%20studies%20by%20the%20Swedish%20obstetrician%20Dr.%20Tage%20Malmstr%C3%B6m.5%20By%20the%201970s%2C%20the%20vacuum%20extractor%20had%20almost%20completely%20replaced%20forceps%20for%20assisted%20vaginal%20deliveries%20in%20most%20northern%20European%20countries%2C%20but%20its%20popularity%20in%20many%20English-speaking%20countries%2C%20including%20the%20United%20States%20and%20the%20United%20Kingdom%2C%20was%20limited.%20By%201992%2C%20however%2C%20the%20number%20of%20vacuum%20assisted%20deliveries%20surpassed%20the%20number%20of%20forceps%20deliveries%20in%20the%20United%20States%2C%20and%20by%20the%20year%202000%20approximately%2066%25%20of%20operative%20vaginal%20deliveries%20were%20by%20vacuu&f=false)  the paragraph was reproduced verbatim. \n",
    "\n",
    "While a citation to the original paper was present in the Chapter I am suspicious that this might be a pattern of this author.\n",
    "\n",
    "Therefore I downloaded the the text of [9th edition of this book](https://www.sciencedirect.com/science/book/9781437701340#ancp4) (all that was legally available) and extracted the text of the same chapter"
   ]
  },
  {
   "cell_type": "code",
   "execution_count": 61,
   "metadata": {},
   "outputs": [],
   "source": [
    "with open('chapter15_9ed.txt') as fh:\n",
    "    text = fh.read()\n",
    "\n",
    "source_tokenise  = sent_tokenize(text)"
   ]
  },
  {
   "cell_type": "code",
   "execution_count": 11,
   "metadata": {},
   "outputs": [],
   "source": [
    "top_hits = [] \n",
    "for sent in source_tokenize:\n",
    "    for hit in search(sent, tld=\"com\", num=5, stop=1, pause=3):\n",
    "        top_hits.append(hit)"
   ]
  },
  {
   "cell_type": "code",
   "execution_count": 25,
   "metadata": {},
   "outputs": [
    {
     "data": {
      "text/plain": [
       "[('https://www.sciencedirect.com/topics/nursing-and-health-professions/shoulder-dystocia',\n",
       "  47),\n",
       " ('https://www.ncbi.nlm.nih.gov/pmc/articles/PMC2672989/', 27),\n",
       " ('https://www.sciencedirect.com/topics/medicine-and-dentistry/cesarean-section',\n",
       "  23),\n",
       " ('https://www.sciencedirect.com/topics/medicine-and-dentistry/forceps-in-childbirth',\n",
       "  14),\n",
       " ('https://www.sciencedirect.com/topics/medicine-and-dentistry/maternal-fetal-medicine',\n",
       "  12),\n",
       " ('https://www.ncbi.nlm.nih.gov/pmc/articles/PMC2633252/', 10),\n",
       " ('https://www.ncbi.nlm.nih.gov/pubmed/19646324', 9),\n",
       " ('https://www.scribd.com/document/345130206/Averys-Diseases-of-the-Newborn-9th-2012-pdf',\n",
       "  8),\n",
       " ('http://medreviews.com/sites/default/files/2016-11/RIOG_21_5_0.pdf', 8),\n",
       " ('http://emedicine.medscape.com/article/1602970-overview', 8)]"
      ]
     },
     "execution_count": 25,
     "metadata": {},
     "output_type": "execute_result"
    }
   ],
   "source": [
    "tally = Counter(top_hits)\n",
    "tally.most_common(10)"
   ]
  },
  {
   "cell_type": "markdown",
   "metadata": {},
   "source": [
    "So of the top 10 hits, the sciencedirect links are the text in question, as is the scribd.\n",
    "\n",
    "The medreviews link is the pdf of the original paper.\n",
    "\n",
    "So let's just focus on the 3 pubmed hits to papers:\n",
    "\n",
    "- [Ali & Norwitz, 2009](https://www.ncbi.nlm.nih.gov/pmc/articles/PMC2672989/) \n",
    "\n",
    "- [Kotaska et. al., 2009](https://www.ncbi.nlm.nih.gov/pubmed/19646324)\n",
    "\n",
    "- [Prapas et. al,m 2009](https://www.ncbi.nlm.nih.gov/pmc/articles/PMC2633252/)\n",
    "\n",
    "Starting to think whichever edition was released after 2009 and whoever wrote that are the main potential plagiarism sources.\n",
    "\n",
    "Let's grab the text for these papers and find the most similar sentences between the two.\n",
    "\n",
    "Just going to do this manually and copy and paste into text file for laziness reasons.\n"
   ]
  },
  {
   "cell_type": "code",
   "execution_count": 44,
   "metadata": {},
   "outputs": [],
   "source": [
    "plagiarism = {}\n",
    "for possible in ['ali.txt', 'kotaska.txt', 'prapas.txt']:\n",
    "    with open(possible) as fh:\n",
    "        text = \" \".join([line.strip() for line in fh])\n",
    "    plagiarism.update({possible: sent_tokenize(text)})"
   ]
  },
  {
   "cell_type": "markdown",
   "metadata": {},
   "source": [
    "Let's try a quick and dirty edit distance "
   ]
  },
  {
   "cell_type": "code",
   "execution_count": 124,
   "metadata": {},
   "outputs": [
    {
     "data": {
      "text/html": [
       "<div>\n",
       "<style scoped>\n",
       "    .dataframe tbody tr th:only-of-type {\n",
       "        vertical-align: middle;\n",
       "    }\n",
       "\n",
       "    .dataframe tbody tr th {\n",
       "        vertical-align: top;\n",
       "    }\n",
       "\n",
       "    .dataframe thead th {\n",
       "        text-align: right;\n",
       "    }\n",
       "</style>\n",
       "<table border=\"1\" class=\"dataframe\">\n",
       "  <thead>\n",
       "    <tr style=\"text-align: right;\">\n",
       "      <th></th>\n",
       "      <th>levenshtein</th>\n",
       "      <th>plag_sent</th>\n",
       "      <th>plag_source</th>\n",
       "      <th>source_sent</th>\n",
       "    </tr>\n",
       "  </thead>\n",
       "  <tbody>\n",
       "    <tr>\n",
       "      <th>43148</th>\n",
       "      <td>0</td>\n",
       "      <td>The rate of neonatal trauma and respiratory di...</td>\n",
       "      <td>prapas.txt</td>\n",
       "      <td>The rate of neonatal trauma and respiratory di...</td>\n",
       "    </tr>\n",
       "  </tbody>\n",
       "</table>\n",
       "</div>"
      ],
      "text/plain": [
       "       levenshtein                                          plag_sent  \\\n",
       "43148            0  The rate of neonatal trauma and respiratory di...   \n",
       "\n",
       "      plag_source                                        source_sent  \n",
       "43148  prapas.txt  The rate of neonatal trauma and respiratory di...  "
      ]
     },
     "execution_count": 124,
     "metadata": {},
     "output_type": "execute_result"
    }
   ],
   "source": [
    "distances = {'source_sent':[], 'plag_source':[], 'plag_sent': [], 'levenshtein':[]}\n",
    "\n",
    "for sent in source_tokenise:\n",
    "    for source in plagiarism:\n",
    "        for plag_sent in plagiarism[source]:\n",
    "            distances['source_sent'].append(sent)\n",
    "            distances['plag_source'].append(source)\n",
    "            distances['plag_sent'].append(plag_sent)\n",
    "            distances['levenshtein'].append(editdistance.eval(sent, plag_sent))\n",
    "            \n",
    "df = pd.DataFrame(distances)\n",
    "df = df.sort_values(by=['levenshtein'])\n",
    "df[df['levenshtein'] == 0]"
   ]
  },
  {
   "cell_type": "markdown",
   "metadata": {},
   "source": [
    "So this actually works and reveals another potential plagiarism where a whole sentence (edit distance 0) is lifted (and cited) in the book chapter\n",
    "from the abstract of the Prapas paper: \n",
    "    \n",
    "    `The rate of neonatal trauma and respiratory distress syndrome did not differ significantly between the two groups.`\n",
    "    \n",
    "Need to remove a lot of crud in the df before I can identify anything else, remembering that different citation style will lead to edit distances greater than 0"
   ]
  },
  {
   "cell_type": "code",
   "execution_count": 125,
   "metadata": {},
   "outputs": [],
   "source": [
    "df = df[df['source_sent'].str.len() > 20]\n",
    "df = df[df['plag_sent'].str.len() > 20]"
   ]
  },
  {
   "cell_type": "markdown",
   "metadata": {},
   "source": [
    "Having cleaned up we've found a few other somewhat obvious cases of questionable lifting from both prapas and ali\n",
    "e.g. all the text under edit distance of 24 "
   ]
  },
  {
   "cell_type": "code",
   "execution_count": 127,
   "metadata": {},
   "outputs": [
    {
     "data": {
      "text/html": [
       "<div>\n",
       "<style scoped>\n",
       "    .dataframe tbody tr th:only-of-type {\n",
       "        vertical-align: middle;\n",
       "    }\n",
       "\n",
       "    .dataframe tbody tr th {\n",
       "        vertical-align: top;\n",
       "    }\n",
       "\n",
       "    .dataframe thead th {\n",
       "        text-align: right;\n",
       "    }\n",
       "</style>\n",
       "<table border=\"1\" class=\"dataframe\">\n",
       "  <thead>\n",
       "    <tr style=\"text-align: right;\">\n",
       "      <th></th>\n",
       "      <th>levenshtein</th>\n",
       "      <th>plag_sent</th>\n",
       "      <th>plag_source</th>\n",
       "      <th>source_sent</th>\n",
       "    </tr>\n",
       "  </thead>\n",
       "  <tbody>\n",
       "    <tr>\n",
       "      <th>43148</th>\n",
       "      <td>0</td>\n",
       "      <td>The rate of neonatal trauma and respiratory di...</td>\n",
       "      <td>prapas.txt</td>\n",
       "      <td>The rate of neonatal trauma and respiratory di...</td>\n",
       "    </tr>\n",
       "    <tr>\n",
       "      <th>42726</th>\n",
       "      <td>5</td>\n",
       "      <td>The rate of neonates with Apgar scores ≤ 4 at ...</td>\n",
       "      <td>prapas.txt</td>\n",
       "      <td>The rate of neonates with Apgar scores ≤6 at 1...</td>\n",
       "    </tr>\n",
       "    <tr>\n",
       "      <th>41040</th>\n",
       "      <td>10</td>\n",
       "      <td>The aim of the present study is to compare the...</td>\n",
       "      <td>prapas.txt</td>\n",
       "      <td>The aim of their study was to compare the shor...</td>\n",
       "    </tr>\n",
       "    <tr>\n",
       "      <th>61819</th>\n",
       "      <td>16</td>\n",
       "      <td>There  are 2 main  types  of  disposable  cups...</td>\n",
       "      <td>ali.txt</td>\n",
       "      <td>There are two main types of disposable cups, w...</td>\n",
       "    </tr>\n",
       "    <tr>\n",
       "      <th>55040</th>\n",
       "      <td>17</td>\n",
       "      <td>Vacuum extraction was  first  described  in 17...</td>\n",
       "      <td>ali.txt</td>\n",
       "      <td>Vacuum extraction was first described in 1705 ...</td>\n",
       "    </tr>\n",
       "    <tr>\n",
       "      <th>41884</th>\n",
       "      <td>19</td>\n",
       "      <td>Out of 7098 deliveries, 374 were instrument as...</td>\n",
       "      <td>prapas.txt</td>\n",
       "      <td>Of 7098 deliveries, 374 were instrument assist...</td>\n",
       "    </tr>\n",
       "    <tr>\n",
       "      <th>60977</th>\n",
       "      <td>20</td>\n",
       "      <td>The original vacuum device developed in the 19...</td>\n",
       "      <td>ali.txt</td>\n",
       "      <td>The original vacuum device developed in the 19...</td>\n",
       "    </tr>\n",
       "    <tr>\n",
       "      <th>62240</th>\n",
       "      <td>21</td>\n",
       "      <td>The soft cup is a pliable  funnel-  or  bell-s...</td>\n",
       "      <td>ali.txt</td>\n",
       "      <td>The soft cup is a pliable, funnel- or bell-sha...</td>\n",
       "    </tr>\n",
       "    <tr>\n",
       "      <th>42305</th>\n",
       "      <td>23</td>\n",
       "      <td>Results: The incidence of 3rd degree laceratio...</td>\n",
       "      <td>prapas.txt</td>\n",
       "      <td>The incidence of third-degree lacerations and ...</td>\n",
       "    </tr>\n",
       "  </tbody>\n",
       "</table>\n",
       "</div>"
      ],
      "text/plain": [
       "       levenshtein                                          plag_sent  \\\n",
       "43148            0  The rate of neonatal trauma and respiratory di...   \n",
       "42726            5  The rate of neonates with Apgar scores ≤ 4 at ...   \n",
       "41040           10  The aim of the present study is to compare the...   \n",
       "61819           16  There  are 2 main  types  of  disposable  cups...   \n",
       "55040           17  Vacuum extraction was  first  described  in 17...   \n",
       "41884           19  Out of 7098 deliveries, 374 were instrument as...   \n",
       "60977           20  The original vacuum device developed in the 19...   \n",
       "62240           21  The soft cup is a pliable  funnel-  or  bell-s...   \n",
       "42305           23  Results: The incidence of 3rd degree laceratio...   \n",
       "\n",
       "      plag_source                                        source_sent  \n",
       "43148  prapas.txt  The rate of neonatal trauma and respiratory di...  \n",
       "42726  prapas.txt  The rate of neonates with Apgar scores ≤6 at 1...  \n",
       "41040  prapas.txt  The aim of their study was to compare the shor...  \n",
       "61819     ali.txt  There are two main types of disposable cups, w...  \n",
       "55040     ali.txt  Vacuum extraction was first described in 1705 ...  \n",
       "41884  prapas.txt  Of 7098 deliveries, 374 were instrument assist...  \n",
       "60977     ali.txt  The original vacuum device developed in the 19...  \n",
       "62240     ali.txt  The soft cup is a pliable, funnel- or bell-sha...  \n",
       "42305  prapas.txt  The incidence of third-degree lacerations and ...  "
      ]
     },
     "execution_count": 127,
     "metadata": {},
     "output_type": "execute_result"
    }
   ],
   "source": [
    "df[df['levenshtein'] < 24]"
   ]
  },
  {
   "cell_type": "code",
   "execution_count": null,
   "metadata": {
    "collapsed": true
   },
   "outputs": [],
   "source": []
  }
 ],
 "metadata": {
  "kernelspec": {
   "display_name": "Python [conda env:plagiarism]",
   "language": "python",
   "name": "conda-env-plagiarism-py"
  },
  "language_info": {
   "codemirror_mode": {
    "name": "ipython",
    "version": 3
   },
   "file_extension": ".py",
   "mimetype": "text/x-python",
   "name": "python",
   "nbconvert_exporter": "python",
   "pygments_lexer": "ipython3",
   "version": "3.6.4"
  }
 },
 "nbformat": 4,
 "nbformat_minor": 2
}
